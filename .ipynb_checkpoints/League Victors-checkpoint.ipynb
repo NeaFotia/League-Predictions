{
 "cells": [
  {
   "cell_type": "markdown",
   "id": "15313d5c-8cef-41f8-b04c-aedba7059a7e",
   "metadata": {},
   "source": [
    "# Predicting *League of Legends* Ranked Victories by Early-Mid Game Statistics"
   ]
  },
  {
   "cell_type": "markdown",
   "id": "d5f9960c-3032-4a87-b8b4-6917855b8725",
   "metadata": {},
   "source": [
    "## What is *League of Legends* and why are we interested in its victors?\n",
    "\n",
    "*League of Legends* is a widely popular video game with a large folowing of their competitive scene and backed by the lore created by its company Riot Games that now spans four hugely popular games, multiple books, and a recent Netflix Series. All of this started as the creation of a video game in a then budding genre called Multiplayer Online Battle Arena, or MOBA. The MOBA genre has now exploded into becoming an over 300 million dollar industry with major e-sports contracts, worldwide competition, and events watched by more than some sports championships. *League of Legends* makes up two-thirds of the market share for this genre.\n",
    "\n",
    "With this huge interest and low barrier of entry to the game, nearly every watcher has delved into playing at least a few games of League of Legends. And though some people are driven away by the toxic community, poor tutorials, or terrible networking code, there are multitudes more drawn in by the game's complexity, strategic depth, and competition. The game works on a ranked system, and in a world where time is money, people want to know whether a game is worth continuing or if it would be better to forfeit and move on to the next game. This brings us to our current question, predicting victors based on early game statistics."
   ]
  },
  {
   "cell_type": "markdown",
   "id": "8ec26235-0384-4407-bbce-e6fe192b56d7",
   "metadata": {},
   "source": [
    "## What early game statistics can we check?\n",
    "\n",
    "Though *League of Legends* is a complex game with many strategic options that can even vary at the ranks of the competitive ladder, there is consistent things that are viewable at each and every rank. Though some of these features may vary in importance depending on rank, the presence and potential quantities of the features themselves is consistent due to the bounds of the game.\n",
    "\n",
    "### Summary features\n",
    "Each of these features are provided in a match summary format by the client. The featuers we have chosen are defined as being observable by a player on the loading screen. All three of these features is repeated once for each of the players for a total of ten times per feature.\n",
    "\n",
    "#### Champion\n",
    "The champion a player selects represents the character that they are using. This determines to a degree their playstyle for the match, the other features they may select, as well as the abilities available to them.\n",
    "\n",
    "#### Summoner Spell\n",
    "This feature represents one of the special skills taken by the player, called a summoner spell. Though players can select two of these spells, nearly all players select one called Flash and a secondary spell of their choice. Thus, to limit the amount of features, the flash summoner spell has been removed from the listing. A full description of each summoner spell and their uses can be found here: https://dignitas.gg/articles/blogs/Unknown/14425/an-overview-guide-to-summoner-spells-in-lol\n",
    "\n",
    "#### Keystone Rune\n",
    "As part of the game, each palyer creates what is known as a rune page. Though this can produce highly variable results with the amount of potential combinations, it is impossible to tell someone's full rune page until after the game has concluded. What you can easily see is the keystone rune selected by a given player. This is the rune with the most impact from those selected, and can drastically how a palyer wants to approach fighting against the player.\n",
    "\n",
    "\n",
    "### Snapshot Features\n",
    "These features are taken in three snapshots at five, ten, and fifteen minutes into the game. Each feature is duplicated, once to each team.\n",
    "\n",
    "#### Team Gold\n",
    "This is the total currency that the team has gained. Gold is generated passively as well as through various smaller and larger objectives. To ensure that there isn't too many features, the smaller features are lumped together in the total team gold. This can be considered the team's overall \"score\" in a sense.\n",
    "\n",
    "#### Team Kills\n",
    "This is the total amount of kills that a team has gotten. Though a kill does result in gold, it also results in taking a player out of the game temporarily and allowing the killing team to potentially take advantage of that player's temporary displacement.\n",
    "\n",
    "#### Towers Destroyed\n",
    "This is the amount of towers destroyed by the team. Towers are structures that shoot powerful projectiles at enemies, and are present in the open areas of the map. Though it is not common for many towers to be destroyed before the first fifteen minutes have elapsed, should one fall the players who have lost the tower will be losing significant amounts of control over that area of the map and allowing their enemies to apply much more pressure. See this article for a full explanation about League of Legends Towers, also known as Turrets: https://en.number13.de/league-of-legends-turret-aggro-and-everything-you-need-to-know-about-turrets/\n",
    "\n",
    "#### Dragons Killed\n",
    "One of the significant neutral objectives is known as the Dragon. These are creatures that, when killed, will give the team a small but not insignificant buff. This cumulates when players kill four dragons and gain what is known as the dragon, a large buff that can strongly influence the way that the game goes. The dragon soul is not attainable within 15 minutes, but it is possible to make significant progress towards the dragon soul and gaining the smaller buffs can make a difference. For a more in-depth explanation about the dragons, you can refer to this article: https://win.gg/news/everything-you-need-to-know-about-lols-dragons-and-drakes/\n",
    "\n",
    "Please note that the article is somewhat out of date as of recent updates, but the premise of what the dragons can give is the same.\n",
    "\n",
    "#### Rift Heralds Killed\n",
    "Another of the Neutral monsters available in early game is known as the rift herald. This creature, when killed, gives the killer a temporary ability allowing them to summon the creature to fight for them until killed. When summoned, this creature will charge at nearby towers, dealing massive damage to them and allowign them to put significant pressure on the map. As such, it is very important for early game pressure to get the rift herald if possible. There can only be two rift heralds that spawn in any given game, as its spawn area is taken over by a more powerful monster at the twenty minute mark, but it is marginally possible for both of those to be killed within the first fifteen minutes. For a slightly more in-depth explanation about the rift herald and its uses, you can watch this short video on the topic: https://www.youtube.com/watch?v=ISWm8hNz4Xk\n"
   ]
  },
  {
   "cell_type": "markdown",
   "id": "560b5275-a0f7-4a64-b0f3-6ce64a71bbba",
   "metadata": {},
   "source": [
    "## How are we getting the data?\n",
    "\n",
    "The data used for this has been collected using the riot api and parsed using custom Python3 code. Due to API limitations, we have maintained the number of matches at 12,000 valid matches. For a further studyt, more matches in more varied ranks could be used, but for now to keep computational burdens relatively low, I have kept at that number. For any interested in looking further at the Riot API itself, here is their developer landing page: https://developer.riotgames.com/"
   ]
  },
  {
   "cell_type": "markdown",
   "id": "697afa07-c7fe-4e7a-b445-7c8ccead4391",
   "metadata": {},
   "source": [
    "## Program Setup\n",
    "\n",
    "Below is some setup for the notebook itself. Namely the various libraries that we are importing for use throughout the whole project."
   ]
  },
  {
   "cell_type": "code",
   "execution_count": 33,
   "id": "eb939983-0062-4255-9ff4-95d4d7c5bce1",
   "metadata": {},
   "outputs": [],
   "source": [
    "import pandas as pd\n",
    "import numpy as np\n",
    "import json\n",
    "from sklearn.model_selection import train_test_split\n",
    "from sklearn.pipeline import make_pipeline\n",
    "from sklearn.linear_model import LogisticRegression\n",
    "from sklearn.impute import SimpleImputer\n",
    "from category_encoders import OneHotEncoder\n",
    "from sklearn.ensemble import GradientBoostingClassifier\n",
    "from sklearn.model_selection import GridSearchCV\n",
    "from sklearn.metrics import roc_curve, plot_roc_curve, roc_auc_score, plot_confusion_matrix\n",
    "from sklearn.preprocessing import StandardScaler\n",
    "from matplotlib import pyplot as plt"
   ]
  },
  {
   "cell_type": "markdown",
   "id": "9a4e4dbd-8d46-4e6a-a008-fbe911e52ae7",
   "metadata": {},
   "source": [
    "## Data Wrangling"
   ]
  },
  {
   "cell_type": "markdown",
   "id": "9635c8e8-ae51-4ade-b82d-02827a4d0222",
   "metadata": {},
   "source": [
    "*League of Legends* includes over 150 unique champion characters for players to choose from. Were we to encode all of these, we would end up with far too many features to reasonably process. As such, we simplify each of the champions into classes. These classes are provided by the developers themselves and have been parsed into a json file for our use. We load that json file here and set up a function to convert the champion name into its class. Though some champions have a secondary class, most do not and we will not be taking the secondary class into account."
   ]
  },
  {
   "cell_type": "code",
   "execution_count": 2,
   "id": "f98c0509-7577-491d-b14f-f628ac1aa52f",
   "metadata": {},
   "outputs": [],
   "source": [
    "#the dictionary for champion names to their defined classes\n",
    "with open(\"champion_classes.json\") as file:\n",
    "    champion_class = json.load(file)\n",
    "\n",
    "#our transformer for champion names to champion classes\n",
    "def champ_to_class(champion):\n",
    "    #special case for Wukong as the API labels it as MonkeyKing\n",
    "    if champion == \"MonkeyKing\":\n",
    "        champ = \"wukong\"\n",
    "    \n",
    "    else:\n",
    "        champ = champion.lower()\n",
    "    \n",
    "    return champion_class[champ]"
   ]
  },
  {
   "cell_type": "markdown",
   "id": "aff445e9-cb81-487e-a542-28d4828a79b2",
   "metadata": {},
   "source": [
    "Our wrangle function sets the match ID as our index, as that is a unique identifier for each match and has no bearing on the match itself. After it has read the dataset in, it takes each of the champion columns and converts it into their class name using the champion name. We do not need to worry about any leaky data as it has been removed as part of the process of fetching the data from the API."
   ]
  },
  {
   "cell_type": "code",
   "execution_count": 3,
   "id": "4187cacf-43c0-4b87-a579-6736434577ea",
   "metadata": {},
   "outputs": [],
   "source": [
    "#Our wrangle function to manage our initial data\n",
    "def wrangle(filepath):\n",
    "    #read the csv in with Match ID as our index as it is a unique identifier\n",
    "    df = pd.read_csv(filepath,\n",
    "                     index_col = \"match_id\"\n",
    "                     )\n",
    "    \n",
    "    #the columns with champion names\n",
    "    champion_columns = [\"player0_champion\", \"player1_champion\", \"player2_champion\", \"player3_champion\", \"player4_champion\", \"player5_champion\", \"player6_champion\", \"player7_champion\", \"player8_champion\", \"player9_champion\"]\n",
    "    \n",
    "    #go through each of them to apply the class to the column\n",
    "    for column in champion_columns:\n",
    "        df[column] = df[column].apply(champ_to_class)\n",
    "    \n",
    "    return df"
   ]
  },
  {
   "cell_type": "markdown",
   "id": "0d3d4391-a321-4a3a-9c76-b3632f057d18",
   "metadata": {},
   "source": [
    "With that all set up, we can wrangle the data based on our filepath and work from there"
   ]
  },
  {
   "cell_type": "code",
   "execution_count": 4,
   "id": "a535d8a7-5908-4295-8b63-bd78f0701870",
   "metadata": {},
   "outputs": [
    {
     "data": {
      "text/html": [
       "<div>\n",
       "<style scoped>\n",
       "    .dataframe tbody tr th:only-of-type {\n",
       "        vertical-align: middle;\n",
       "    }\n",
       "\n",
       "    .dataframe tbody tr th {\n",
       "        vertical-align: top;\n",
       "    }\n",
       "\n",
       "    .dataframe thead th {\n",
       "        text-align: right;\n",
       "    }\n",
       "</style>\n",
       "<table border=\"1\" class=\"dataframe\">\n",
       "  <thead>\n",
       "    <tr style=\"text-align: right;\">\n",
       "      <th></th>\n",
       "      <th>player0_champion</th>\n",
       "      <th>player1_champion</th>\n",
       "      <th>player2_champion</th>\n",
       "      <th>player3_champion</th>\n",
       "      <th>player4_champion</th>\n",
       "      <th>player5_champion</th>\n",
       "      <th>player6_champion</th>\n",
       "      <th>player7_champion</th>\n",
       "      <th>player8_champion</th>\n",
       "      <th>player9_champion</th>\n",
       "      <th>...</th>\n",
       "      <th>red_gold_15</th>\n",
       "      <th>blue_kills_15</th>\n",
       "      <th>red_kills_15</th>\n",
       "      <th>blue_towers_15</th>\n",
       "      <th>red_towers_15</th>\n",
       "      <th>blue_dragons_15</th>\n",
       "      <th>red_dragons_15</th>\n",
       "      <th>blue_heralds_15</th>\n",
       "      <th>red_heralds_15</th>\n",
       "      <th>winner</th>\n",
       "    </tr>\n",
       "    <tr>\n",
       "      <th>match_id</th>\n",
       "      <th></th>\n",
       "      <th></th>\n",
       "      <th></th>\n",
       "      <th></th>\n",
       "      <th></th>\n",
       "      <th></th>\n",
       "      <th></th>\n",
       "      <th></th>\n",
       "      <th></th>\n",
       "      <th></th>\n",
       "      <th></th>\n",
       "      <th></th>\n",
       "      <th></th>\n",
       "      <th></th>\n",
       "      <th></th>\n",
       "      <th></th>\n",
       "      <th></th>\n",
       "      <th></th>\n",
       "      <th></th>\n",
       "      <th></th>\n",
       "      <th></th>\n",
       "    </tr>\n",
       "  </thead>\n",
       "  <tbody>\n",
       "    <tr>\n",
       "      <th>NA1_4110079710</th>\n",
       "      <td>Specialist</td>\n",
       "      <td>Slayer</td>\n",
       "      <td>Slayer</td>\n",
       "      <td>Marksman</td>\n",
       "      <td>Tank</td>\n",
       "      <td>Specialist</td>\n",
       "      <td>Fighter</td>\n",
       "      <td>Mage</td>\n",
       "      <td>Marksman</td>\n",
       "      <td>Controller</td>\n",
       "      <td>...</td>\n",
       "      <td>22389</td>\n",
       "      <td>7</td>\n",
       "      <td>4</td>\n",
       "      <td>1</td>\n",
       "      <td>0</td>\n",
       "      <td>1</td>\n",
       "      <td>0</td>\n",
       "      <td>0</td>\n",
       "      <td>1</td>\n",
       "      <td>Red</td>\n",
       "    </tr>\n",
       "    <tr>\n",
       "      <th>NA1_4139115929</th>\n",
       "      <td>Fighter</td>\n",
       "      <td>Fighter</td>\n",
       "      <td>Slayer</td>\n",
       "      <td>Marksman</td>\n",
       "      <td>Mage</td>\n",
       "      <td>Tank</td>\n",
       "      <td>Slayer</td>\n",
       "      <td>Mage</td>\n",
       "      <td>Mage</td>\n",
       "      <td>Marksman</td>\n",
       "      <td>...</td>\n",
       "      <td>22045</td>\n",
       "      <td>19</td>\n",
       "      <td>7</td>\n",
       "      <td>1</td>\n",
       "      <td>0</td>\n",
       "      <td>1</td>\n",
       "      <td>0</td>\n",
       "      <td>1</td>\n",
       "      <td>0</td>\n",
       "      <td>Blue</td>\n",
       "    </tr>\n",
       "    <tr>\n",
       "      <th>NA1_4139129979</th>\n",
       "      <td>Mage</td>\n",
       "      <td>Marksman</td>\n",
       "      <td>Slayer</td>\n",
       "      <td>Marksman</td>\n",
       "      <td>Controller</td>\n",
       "      <td>Mage</td>\n",
       "      <td>Slayer</td>\n",
       "      <td>Slayer</td>\n",
       "      <td>Marksman</td>\n",
       "      <td>Mage</td>\n",
       "      <td>...</td>\n",
       "      <td>28120</td>\n",
       "      <td>14</td>\n",
       "      <td>18</td>\n",
       "      <td>0</td>\n",
       "      <td>0</td>\n",
       "      <td>0</td>\n",
       "      <td>1</td>\n",
       "      <td>0</td>\n",
       "      <td>0</td>\n",
       "      <td>Blue</td>\n",
       "    </tr>\n",
       "    <tr>\n",
       "      <th>NA1_4139074211</th>\n",
       "      <td>Tank</td>\n",
       "      <td>Slayer</td>\n",
       "      <td>Slayer</td>\n",
       "      <td>Marksman</td>\n",
       "      <td>Controller</td>\n",
       "      <td>Tank</td>\n",
       "      <td>Specialist</td>\n",
       "      <td>Mage</td>\n",
       "      <td>Marksman</td>\n",
       "      <td>Controller</td>\n",
       "      <td>...</td>\n",
       "      <td>22890</td>\n",
       "      <td>6</td>\n",
       "      <td>8</td>\n",
       "      <td>0</td>\n",
       "      <td>0</td>\n",
       "      <td>1</td>\n",
       "      <td>0</td>\n",
       "      <td>0</td>\n",
       "      <td>1</td>\n",
       "      <td>Red</td>\n",
       "    </tr>\n",
       "    <tr>\n",
       "      <th>NA1_4138986434</th>\n",
       "      <td>Fighter</td>\n",
       "      <td>Fighter</td>\n",
       "      <td>Marksman</td>\n",
       "      <td>Marksman</td>\n",
       "      <td>Mage</td>\n",
       "      <td>Slayer</td>\n",
       "      <td>Fighter</td>\n",
       "      <td>Mage</td>\n",
       "      <td>Marksman</td>\n",
       "      <td>Controller</td>\n",
       "      <td>...</td>\n",
       "      <td>19436</td>\n",
       "      <td>10</td>\n",
       "      <td>2</td>\n",
       "      <td>1</td>\n",
       "      <td>0</td>\n",
       "      <td>0</td>\n",
       "      <td>1</td>\n",
       "      <td>0</td>\n",
       "      <td>0</td>\n",
       "      <td>Blue</td>\n",
       "    </tr>\n",
       "  </tbody>\n",
       "</table>\n",
       "<p>5 rows × 61 columns</p>\n",
       "</div>"
      ],
      "text/plain": [
       "               player0_champion player1_champion player2_champion  \\\n",
       "match_id                                                            \n",
       "NA1_4110079710       Specialist           Slayer           Slayer   \n",
       "NA1_4139115929          Fighter          Fighter           Slayer   \n",
       "NA1_4139129979             Mage         Marksman           Slayer   \n",
       "NA1_4139074211             Tank           Slayer           Slayer   \n",
       "NA1_4138986434          Fighter          Fighter         Marksman   \n",
       "\n",
       "               player3_champion player4_champion player5_champion  \\\n",
       "match_id                                                            \n",
       "NA1_4110079710         Marksman             Tank       Specialist   \n",
       "NA1_4139115929         Marksman             Mage             Tank   \n",
       "NA1_4139129979         Marksman       Controller             Mage   \n",
       "NA1_4139074211         Marksman       Controller             Tank   \n",
       "NA1_4138986434         Marksman             Mage           Slayer   \n",
       "\n",
       "               player6_champion player7_champion player8_champion  \\\n",
       "match_id                                                            \n",
       "NA1_4110079710          Fighter             Mage         Marksman   \n",
       "NA1_4139115929           Slayer             Mage             Mage   \n",
       "NA1_4139129979           Slayer           Slayer         Marksman   \n",
       "NA1_4139074211       Specialist             Mage         Marksman   \n",
       "NA1_4138986434          Fighter             Mage         Marksman   \n",
       "\n",
       "               player9_champion  ... red_gold_15 blue_kills_15 red_kills_15  \\\n",
       "match_id                         ...                                          \n",
       "NA1_4110079710       Controller  ...       22389             7            4   \n",
       "NA1_4139115929         Marksman  ...       22045            19            7   \n",
       "NA1_4139129979             Mage  ...       28120            14           18   \n",
       "NA1_4139074211       Controller  ...       22890             6            8   \n",
       "NA1_4138986434       Controller  ...       19436            10            2   \n",
       "\n",
       "               blue_towers_15 red_towers_15 blue_dragons_15 red_dragons_15  \\\n",
       "match_id                                                                     \n",
       "NA1_4110079710              1             0               1              0   \n",
       "NA1_4139115929              1             0               1              0   \n",
       "NA1_4139129979              0             0               0              1   \n",
       "NA1_4139074211              0             0               1              0   \n",
       "NA1_4138986434              1             0               0              1   \n",
       "\n",
       "               blue_heralds_15 red_heralds_15 winner  \n",
       "match_id                                              \n",
       "NA1_4110079710               0              1    Red  \n",
       "NA1_4139115929               1              0   Blue  \n",
       "NA1_4139129979               0              0   Blue  \n",
       "NA1_4139074211               0              1    Red  \n",
       "NA1_4138986434               0              0   Blue  \n",
       "\n",
       "[5 rows x 61 columns]"
      ]
     },
     "execution_count": 4,
     "metadata": {},
     "output_type": "execute_result"
    }
   ],
   "source": [
    "#filepath to our data file\n",
    "filepath = \"match_data.csv\"\n",
    "\n",
    "df = wrangle(filepath)\n",
    "\n",
    "df.head()"
   ]
  },
  {
   "cell_type": "markdown",
   "id": "6aaa034e-0d79-4223-9224-6f7eb26f7cd0",
   "metadata": {},
   "source": [
    "## Splitting our Data\n",
    "We have 12,000 matches available to us. From this, we will be keeping 2000 matches for testing and another 2000 for validation. Our target variable is the winner of the match, as we are looking to predict winners from the early game statistics. As all of our games take place across only two patches with minimal differences and don't have the date data for the matches, we will be randomly splitting the data instead of using datetime."
   ]
  },
  {
   "cell_type": "code",
   "execution_count": 5,
   "id": "707f9edc-0ec0-42dd-a4b3-bc0ed38e1ef6",
   "metadata": {},
   "outputs": [],
   "source": [
    "X = df.drop(columns=\"winner\")\n",
    "y = df[\"winner\"]\n",
    "\n",
    "X_train, X_test, y_train, y_test = train_test_split(X, y, test_size=2000, random_state = 709)\n",
    "X_train, X_val, y_train, y_val = train_test_split(X_train, y_train, test_size=0.2, random_state = 709)"
   ]
  },
  {
   "cell_type": "markdown",
   "id": "012c1e00-bab8-43df-b8ba-0435e6c34e7b",
   "metadata": {},
   "source": [
    "## Baseline Accuracy\n",
    "\n",
    "We are using a classification problem (Picking out our victor). And since we are expecting to have about equal win-rates between each side, it is reasonable to pick an accuracy value. As accuracy is an applicable value, we can select the majority winner and use that as our baseline"
   ]
  },
  {
   "cell_type": "code",
   "execution_count": 6,
   "id": "ffd0695f-83ba-40f8-9414-780c7e187849",
   "metadata": {},
   "outputs": [
    {
     "name": "stdout",
     "output_type": "stream",
     "text": [
      "Our basline accuracy is: 0.506875\n"
     ]
    }
   ],
   "source": [
    "baseline_acc = y_train.value_counts(normalize = True).max()\n",
    "\n",
    "print(f\"Our basline accuracy is: {baseline_acc}\")"
   ]
  },
  {
   "cell_type": "markdown",
   "id": "ef8827c3-1f8b-416c-8f8c-27d55951796d",
   "metadata": {},
   "source": [
    "We have a slight bias towards one side in our data, but not in a way that is unexpected. Though slight, there are a few differences between the sides that coudl weight it to this small of a degree."
   ]
  },
  {
   "cell_type": "markdown",
   "id": "764aa08b-5a1c-4230-b334-151f042936e1",
   "metadata": {},
   "source": [
    "## Building our Models\n",
    "For this project, we will be creating two separate models. The first will be a Logistic Regression Model, while the second will be a tree-based model in a boosting ensemble."
   ]
  },
  {
   "cell_type": "code",
   "execution_count": 7,
   "id": "18ecf2d9-5413-4f52-8077-01fbec6aafab",
   "metadata": {},
   "outputs": [
    {
     "name": "stderr",
     "output_type": "stream",
     "text": [
      "C:\\Users\\bugab\\anaconda3\\envs\\dataScience\\lib\\site-packages\\category_encoders\\utils.py:21: FutureWarning: is_categorical is deprecated and will be removed in a future version.  Use is_categorical_dtype instead\n",
      "  elif pd.api.types.is_categorical(cols):\n"
     ]
    }
   ],
   "source": [
    "#our logistic regression model; category_encoders currently has a warning for a function used in there own encoder, it is not something handled on this end\n",
    "model_lr = make_pipeline(\n",
    "            OneHotEncoder(use_cat_names = True),\n",
    "            SimpleImputer(),\n",
    "            LogisticRegression(max_iter=1000, n_jobs =-1)\n",
    "            )\n",
    "\n",
    "model_lr.fit(X_train, y_train);"
   ]
  },
  {
   "cell_type": "code",
   "execution_count": 8,
   "id": "f99bd463-168b-40cb-aa74-97ca3ace9c9e",
   "metadata": {},
   "outputs": [
    {
     "name": "stderr",
     "output_type": "stream",
     "text": [
      "C:\\Users\\bugab\\anaconda3\\envs\\dataScience\\lib\\site-packages\\category_encoders\\utils.py:21: FutureWarning: is_categorical is deprecated and will be removed in a future version.  Use is_categorical_dtype instead\n",
      "  elif pd.api.types.is_categorical(cols):\n"
     ]
    }
   ],
   "source": [
    "#our tree-based boosting model; same warning for category_encoders as the logistic model\n",
    "model_boost = make_pipeline(\n",
    "                    OneHotEncoder(use_cat_names = True),\n",
    "                    SimpleImputer(),\n",
    "                    GradientBoostingClassifier(random_state = 709)\n",
    "                    )\n",
    "\n",
    "model_boost.fit(X_train, y_train);"
   ]
  },
  {
   "cell_type": "markdown",
   "id": "812c110d-b341-4540-9b07-ef9918908818",
   "metadata": {},
   "source": [
    "## Checking our Initial Metrics\n",
    "\n",
    "With our initial models fitted, we need to check the metrics to see how they are currently performing"
   ]
  },
  {
   "cell_type": "code",
   "execution_count": 9,
   "id": "5640f7e6-0b96-4150-8d2b-288aca095d5b",
   "metadata": {},
   "outputs": [
    {
     "name": "stdout",
     "output_type": "stream",
     "text": [
      "Logistic Regression Model\n",
      "Training accuracy: 0.784\n",
      "Validation accuracy: 0.7815\n",
      "\n",
      "Gradient Boosting Model\n",
      "Training accuracy: 0.803625\n",
      "Validation accuracy: 0.7845\n"
     ]
    }
   ],
   "source": [
    "print('Logistic Regression Model')\n",
    "print('Training accuracy:', model_lr.score(X_train, y_train))\n",
    "print('Validation accuracy:', model_lr.score(X_val, y_val))\n",
    "print('')\n",
    "print('Gradient Boosting Model')\n",
    "print('Training accuracy:', model_boost.score(X_train, y_train))\n",
    "print('Validation accuracy:', model_boost.score(X_val, y_val))"
   ]
  },
  {
   "cell_type": "markdown",
   "id": "d7e2961c-6598-4c1e-ad09-1b349adfad10",
   "metadata": {},
   "source": [
    "## Tuning our models\n",
    "\n",
    "Both models performed similarly on the validation set, so we will tune the hyperparameters on both of the models. We will not be using any cross-validation as we have already set a validation set aside\n",
    "\n",
    "### Logistic Regression Tuning\n",
    "For the logistic regression tuning, we will be checkign the simpleimputer strategy, the regression solving methods, and various levels of C or penalty strength"
   ]
  },
  {
   "cell_type": "code",
   "execution_count": 13,
   "id": "b5fb1f68-d3e9-4252-9b15-e129e0652bf6",
   "metadata": {},
   "outputs": [
    {
     "name": "stdout",
     "output_type": "stream",
     "text": [
      "Fitting 5 folds for each of 50 candidates, totalling 250 fits\n"
     ]
    },
    {
     "name": "stderr",
     "output_type": "stream",
     "text": [
      "C:\\Users\\bugab\\anaconda3\\envs\\dataScience\\lib\\site-packages\\category_encoders\\utils.py:21: FutureWarning: is_categorical is deprecated and will be removed in a future version.  Use is_categorical_dtype instead\n",
      "  elif pd.api.types.is_categorical(cols):\n"
     ]
    }
   ],
   "source": [
    "lr_param_grid = {\n",
    "    'simpleimputer__strategy': ['mean', 'median'],\n",
    "    'logisticregression__solver': ['newton-cg', 'lbfgs', 'liblinear', 'sag', 'saga'],\n",
    "    'logisticregression__C': [100.0, 10.0, 1.0, 0.1, 0.01]\n",
    "}\n",
    "\n",
    "#setting up our grid search. n_jobs is set to 6 so as to allow my CPU to have some breathing room still\n",
    "model_gslr = GridSearchCV(\n",
    "                model_lr,\n",
    "                param_grid = lr_param_grid,\n",
    "                n_jobs = -1,\n",
    "                cv = None,\n",
    "                verbose=1\n",
    "                )\n",
    "\n",
    "model_gslr.fit(X_train, y_train);"
   ]
  },
  {
   "cell_type": "markdown",
   "id": "6b8de940-6f0a-499a-9d1b-cac9eb9baf58",
   "metadata": {},
   "source": [
    "### Gradient Boosting Tuning\n",
    "For tuning our gradient boosting, we will be using learning rate, n_estimators, subsamples, and max depth into account"
   ]
  },
  {
   "cell_type": "code",
   "execution_count": 12,
   "id": "a0ae46c7-e2d4-463f-84d1-9f55e66d745d",
   "metadata": {},
   "outputs": [
    {
     "name": "stdout",
     "output_type": "stream",
     "text": [
      "Fitting 5 folds for each of 162 candidates, totalling 810 fits\n"
     ]
    },
    {
     "name": "stderr",
     "output_type": "stream",
     "text": [
      "C:\\Users\\bugab\\anaconda3\\envs\\dataScience\\lib\\site-packages\\category_encoders\\utils.py:21: FutureWarning: is_categorical is deprecated and will be removed in a future version.  Use is_categorical_dtype instead\n",
      "  elif pd.api.types.is_categorical(cols):\n"
     ]
    }
   ],
   "source": [
    "boost_param_grid = {\n",
    "    'simpleimputer__strategy': ['mean', 'median'],\n",
    "    'gradientboostingclassifier__n_estimators': [10, 100, 1000],\n",
    "    'gradientboostingclassifier__learning_rate': [0.001, 0.01, 0.1],\n",
    "    'gradientboostingclassifier__subsample': [0.5, 0.7, 1.0],\n",
    "    'gradientboostingclassifier__max_depth': [3, 7, 9]\n",
    "}\n",
    "\n",
    "model_gsboost = GridSearchCV(\n",
    "                    model_boost,\n",
    "                    param_grid = boost_param_grid,\n",
    "                    n_jobs = -1,\n",
    "                    cv = None,\n",
    "                    verbose = 1\n",
    "                    )\n",
    "\n",
    "model_gsboost.fit(X_train, y_train);"
   ]
  },
  {
   "cell_type": "markdown",
   "id": "5b1706d4-9ea4-4be1-887b-31151c0abb7d",
   "metadata": {},
   "source": [
    "## Checking the tuned metrics\n",
    "With all of our hyperparameter tuning complete, we can now properly check our metrics"
   ]
  },
  {
   "cell_type": "code",
   "execution_count": 14,
   "id": "14797c0f-b738-49c7-8a51-2c2b40f6ab9a",
   "metadata": {},
   "outputs": [
    {
     "name": "stdout",
     "output_type": "stream",
     "text": [
      "Logistic Regression Model\n",
      "Training accuracy: 0.79075\n",
      "Validation accuracy: 0.791\n",
      "\n",
      "Gradient Boosting Model\n",
      "Training accuracy: 0.804375\n",
      "Validation accuracy: 0.789\n"
     ]
    }
   ],
   "source": [
    "print('Logistic Regression Model')\n",
    "print('Training accuracy:', model_gslr.score(X_train, y_train))\n",
    "print('Validation accuracy:', model_gslr.score(X_val, y_val))\n",
    "print('')\n",
    "print('Gradient Boosting Model')\n",
    "print('Training accuracy:', model_gsboost.score(X_train, y_train))\n",
    "print('Validation accuracy:', model_gsboost.score(X_val, y_val))"
   ]
  },
  {
   "cell_type": "code",
   "execution_count": 36,
   "id": "0b7da375-418d-47ef-a7df-f4c7df22c765",
   "metadata": {},
   "outputs": [
    {
     "name": "stdout",
     "output_type": "stream",
     "text": [
      "Logistic Regression Model performance on testing set:  0.76\n"
     ]
    }
   ],
   "source": [
    "print('Logistic Regression Model performance on testing set: ', model_gslr.score(X_test, y_test))"
   ]
  },
  {
   "cell_type": "markdown",
   "id": "ed85dbd4-83d5-4ddb-9503-1a65cb19aa12",
   "metadata": {},
   "source": [
    "## Results and Summary\n",
    "After our hyperparameter tuning, our best accuracy available to us is the linear regression model with a 79.1% accuracy on our validation set, and 76% accuracy on our test set. Overall, this is much higher than our baseline, and a good launchpad for further research. Though not the most accurate, it does show that early game statistics will show a prevalence towards the victor of the game overall."
   ]
  },
  {
   "cell_type": "markdown",
   "id": "37af708d-6b35-4bae-b7bf-9c304c6c1606",
   "metadata": {},
   "source": [
    "## Limitations and further study\n",
    "Though enlightening to see the impact of our data, there is still some limitations that must be taken into account. Namely, the narrow scope of data collected. Though we had a dataset of 12,000 matches, they were all taken from only a few ranks and tiers of the competitive ladder. Were a model truly able to generalize to all players, it would need to take data from all the ranks sufficiently in order to ensure that rank does not play a significant factor in other parts of the decision.\n",
    "\n",
    "A few of our other limitations is in communication of results. Unfortunately, with the current models, properly seeing the effect of the individual attributes is quite difficult to summarize. Not only will they need scaling, but also condensing in order to truly understand the differences between players having a specific value and having an overall effect based upon a given decision.\n",
    "\n",
    "Lastly, is the need for further tuning and usage of other potential methods. Though a gradient boost was used for our tree-based option, it may vbe prevalent to explore other tree-based options to see if they yield more accuracy in the long-run. Overall, this is a topic that will require further study before being able to properly examine everything."
   ]
  },
  {
   "cell_type": "code",
   "execution_count": null,
   "id": "3668d7fc-af3f-4ae3-9d57-fb2e58d18d5c",
   "metadata": {},
   "outputs": [],
   "source": []
  }
 ],
 "metadata": {
  "kernelspec": {
   "display_name": "Python 3 (ipykernel)",
   "language": "python",
   "name": "python3"
  },
  "language_info": {
   "codemirror_mode": {
    "name": "ipython",
    "version": 3
   },
   "file_extension": ".py",
   "mimetype": "text/x-python",
   "name": "python",
   "nbconvert_exporter": "python",
   "pygments_lexer": "ipython3",
   "version": "3.9.7"
  }
 },
 "nbformat": 4,
 "nbformat_minor": 5
}
